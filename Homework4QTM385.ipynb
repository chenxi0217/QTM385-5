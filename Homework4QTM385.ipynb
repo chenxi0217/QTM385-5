{
 "cells": [
  {
   "cell_type": "markdown",
   "metadata": {},
   "source": [
    "# QTM 385\n",
    "\n",
    "***\n",
    "\n",
    "## Homework 4\n",
    "\n",
    "Student: [2342476]"
   ]
  },
  {
   "cell_type": "markdown",
   "metadata": {},
   "source": [
    "In this homework, we will create an object called Student, that is useful for a professor to store information about a student."
   ]
  },
  {
   "cell_type": "markdown",
   "metadata": {},
   "source": [
    "\n",
    "***\n",
    "\n",
    "### Question 1\n",
    "\n",
    "Create a class Student, that has:\n",
    "\n",
    "0. Id number (5-digits integer, starting with 1)\n",
    "1. First Name (str)\n",
    "2. Last Name (str)\n",
    "3. Grades (list of floats)\n",
    "4. Credits (list of integers)\n",
    "5. Major (str)\n",
    "\n",
    "Provide a constructor for your class and create one fictitious student."
   ]
  },
  {
   "cell_type": "code",
   "execution_count": 43,
   "metadata": {},
   "outputs": [],
   "source": [
    "# Your answer here\n",
    "class Student:\n",
    "    def __init__(self, ID, first, last, gr, cre, maj):\n",
    "        self.Id = ID\n",
    "        self.first_name = first\n",
    "        self.last_name = last\n",
    "        self.grades = gr\n",
    "        self.credits = cre\n",
    "        self.major = maj"
   ]
  },
  {
   "cell_type": "code",
   "execution_count": 44,
   "metadata": {},
   "outputs": [],
   "source": [
    "s=Student(12345,\"Alice\",\"Li\",[7.5,8.3,9.2],[1,2,3],\"Economics\")\n"
   ]
  },
  {
   "cell_type": "markdown",
   "metadata": {},
   "source": [
    "\n",
    "***\n",
    "\n",
    "### Question 2\n",
    "\n",
    "Create a method to nicely display the student when we type `print`. It should display, for example:\n",
    "\n",
    "```\n",
    "Student:\n",
    "    Id: 12345\n",
    "    Name: Mig, Umberto\n",
    "    Major: QSS\n",
    "```\n",
    "\n",
    "Create a method that, when a variable storing a student is typed in the console, displays:\n",
    "\n",
    "```\n",
    "Student(Mig, Umberto; 12345)\n",
    "```\n",
    "\n",
    "Provide some testing with a fictitious result of your choice."
   ]
  },
  {
   "cell_type": "code",
   "execution_count": 45,
   "metadata": {},
   "outputs": [],
   "source": [
    "# Your answer here\n",
    "class Student:\n",
    "    def __init__(self, ID, first, last, gr, cre, maj):\n",
    "        self.Id = ID\n",
    "        self.first_name = first\n",
    "        self.last_name = last\n",
    "        self.grades = gr\n",
    "        self.credits = cre\n",
    "        self.major = maj\n",
    "        \n",
    "    def __str__(self):\n",
    "        info = \"\"\"\n",
    "        Student:\n",
    "            Id: {Id}\n",
    "            Name: {last_name}, {first_name}\n",
    "            Major: {major}\n",
    "        \"\"\".format(Id = self.Id, last_name = self.last_name, first_name = self.first_name, major = self.major)\n",
    "        return info\n",
    "    \n",
    "    def __repr__(self):\n",
    "        return 'Student({last_name}, {first_name}; {Id})'.format(last_name = self.last_name, first_name = self.first_name, Id = self.Id)"
   ]
  },
  {
   "cell_type": "code",
   "execution_count": 46,
   "metadata": {},
   "outputs": [
    {
     "name": "stdout",
     "output_type": "stream",
     "text": [
      "\n",
      "        Student:\n",
      "            Id: 12345\n",
      "            Name: Li, Alice\n",
      "            Major: Economics\n",
      "        \n"
     ]
    }
   ],
   "source": [
    "s=Student(12345,\"Alice\",\"Li\",[7.5,8.3,9.2],[1,2,3],\"Economics\")\n",
    "print(s)"
   ]
  },
  {
   "cell_type": "code",
   "execution_count": 47,
   "metadata": {},
   "outputs": [
    {
     "data": {
      "text/plain": [
       "Student(Li, Alice; 12345)"
      ]
     },
     "execution_count": 47,
     "metadata": {},
     "output_type": "execute_result"
    }
   ],
   "source": [
    "s"
   ]
  },
  {
   "cell_type": "markdown",
   "metadata": {},
   "source": [
    "\n",
    "***\n",
    "\n",
    "### Question 3\n",
    "\n",
    "Implement class methods for:\n",
    "\n",
    "1. Check if the id number is valid (remember: 5 digits, starting with number one)\n",
    "2. Check if the grades list has the same length as the credits list. The idea is that every grade corresponds to a course that gave the student a certain amount of credits.\n",
    "3. Append grade and credit: given a grade, and credits attached to the grade, append both to each respective place.\n",
    "\n",
    "Test your function with a toy student of your choice."
   ]
  },
  {
   "cell_type": "code",
   "execution_count": 59,
   "metadata": {},
   "outputs": [],
   "source": [
    "# Your answer here\n",
    "class Student:\n",
    "    def __init__(self, ID, first, last, gr, cre, maj):\n",
    "        self.Id = ID\n",
    "        self.first_name = first\n",
    "        self.last_name = last\n",
    "        self.grades = gr\n",
    "        self.credits = cre\n",
    "        self.major = maj\n",
    "        \n",
    "    def __str__(self):\n",
    "        info = \"\"\"\n",
    "        Student:\n",
    "            Id: {Id}\n",
    "            Name: {last_name}, {first_name}\n",
    "            Major: {major}\n",
    "        \"\"\".format(Id = self.Id, last_name = self.last_name, first_name = self.first_name, major = self.major)\n",
    "        return info\n",
    "    \n",
    "    def __repr__(self):\n",
    "        return 'Student({last_name}, {first_name}; {Id})'.format(last_name = self.last_name, first_name = self.first_name, Id = self.Id)\n",
    "    \n",
    "    def Id_valid(self):\n",
    "        if self.Id >= 10000 and self.Id <= 19999:\n",
    "            print(\"This student's Id number is valid.\")\n",
    "        else:\n",
    "            print(\"This student's Id number is invalid.\")\n",
    "    \n",
    "    def grade_credit_match(self):\n",
    "        if len(self.grades) == len(self.credits):\n",
    "            print('The grades list has the same length as the credits list. ')\n",
    "        else:\n",
    "            print('The grades list does not have the same length as the credits list. ')\n",
    "            \n",
    "    def grade_credit_append(self, grade, credit):\n",
    "        self.grades.append(grade)\n",
    "        self.credits.append(credit)\n",
    "        print('Lists of grades are' + str(self.grades) +'\\n Lists of credits are ' + str(self.credits))"
   ]
  },
  {
   "cell_type": "code",
   "execution_count": 60,
   "metadata": {},
   "outputs": [
    {
     "name": "stdout",
     "output_type": "stream",
     "text": [
      "This student's Id number is valid.\n",
      "The grades list has the same length as the credits list. \n",
      "Lists of grades are[7.5, 8.3, 9.2, 5]\n",
      " Lists of credits are [1, 2, 3, 2]\n"
     ]
    }
   ],
   "source": [
    "s=Student(12345,\"Alice\",\"Li\",[7.5,8.3,9.2],[1,2,3],\"Economics\")\n",
    "s.Id_valid()\n",
    "s.grade_credit_match()\n",
    "s.grade_credit_append(5,2)\n"
   ]
  },
  {
   "cell_type": "code",
   "execution_count": 50,
   "metadata": {},
   "outputs": [
    {
     "name": "stdout",
     "output_type": "stream",
     "text": [
      "This student's Id number is invalid.\n",
      "The grades list does not have the same length as the credits list. \n"
     ]
    }
   ],
   "source": [
    "s=Student(22345,\"Alice\",\"Li\",[7.5,8.3,9.2],[2,3],\"Economics\")\n",
    "s.Id_valid()\n",
    "s.grade_credit_match()\n",
    "\n",
    "\n"
   ]
  },
  {
   "cell_type": "markdown",
   "metadata": {},
   "source": [
    "\n",
    "***\n",
    "\n",
    "### Question 4\n",
    "\n",
    "Create a module in the class Student that computes the unweighted average of the student's grades."
   ]
  },
  {
   "cell_type": "code",
   "execution_count": 51,
   "metadata": {},
   "outputs": [],
   "source": [
    "# Your answer here\n",
    "class Student:\n",
    "    def __init__(self, ID, first, last, gr, cre, maj):\n",
    "        self.Id = ID\n",
    "        self.first_name = first\n",
    "        self.last_name = last\n",
    "        self.grades = gr\n",
    "        self.credits = cre\n",
    "        self.major = maj\n",
    "\n",
    "        \n",
    "    def average_grade(self):\n",
    "        avg = sum(self.grades)/ len(self.grades)\n",
    "        return avg"
   ]
  },
  {
   "cell_type": "code",
   "execution_count": 52,
   "metadata": {},
   "outputs": [
    {
     "data": {
      "text/plain": [
       "8.0"
      ]
     },
     "execution_count": 52,
     "metadata": {},
     "output_type": "execute_result"
    }
   ],
   "source": [
    "s=Student(12345,\"Alice\",\"Li\",[7,8,9],[1,2,3],\"Economics\")\n",
    "s.average_grade()"
   ]
  },
  {
   "cell_type": "markdown",
   "metadata": {},
   "source": [
    "\n",
    "***\n",
    "\n",
    "### Question 5\n",
    "\n",
    "Create a module in the class Student that computes the weighted average of the student's grades, weighted by the credits."
   ]
  },
  {
   "cell_type": "code",
   "execution_count": 53,
   "metadata": {},
   "outputs": [],
   "source": [
    "# Your answer here\n",
    "class Student:\n",
    "    def __init__(self, ID, first, last, gr, cre, maj):\n",
    "        self.Id = ID\n",
    "        self.first_name = first\n",
    "        self.last_name = last\n",
    "        self.grades = gr\n",
    "        self.credits = cre\n",
    "        self.major = maj\n",
    "         \n",
    "    def weighted_average_grade(self):\n",
    "        total_credits = sum(self.credits)\n",
    "        avg = 0\n",
    "        for i in range(len(self.grades)):\n",
    "            avg += self.grades[i] * self.credits[i] / total_credits\n",
    "        return avg"
   ]
  },
  {
   "cell_type": "code",
   "execution_count": 54,
   "metadata": {},
   "outputs": [
    {
     "data": {
      "text/plain": [
       "8.333333333333332"
      ]
     },
     "execution_count": 54,
     "metadata": {},
     "output_type": "execute_result"
    }
   ],
   "source": [
    "s=Student(12345,\"Alice\",\"Li\",[7,8,9],[1,2,3],\"Economics\")\n",
    "s.weighted_average_grade()"
   ]
  },
  {
   "cell_type": "markdown",
   "metadata": {},
   "source": [
    "**That's all, folks!**"
   ]
  }
 ],
 "metadata": {
  "kernelspec": {
   "display_name": "Python 3",
   "language": "python",
   "name": "python3"
  },
  "language_info": {
   "codemirror_mode": {
    "name": "ipython",
    "version": 3
   },
   "file_extension": ".py",
   "mimetype": "text/x-python",
   "name": "python",
   "nbconvert_exporter": "python",
   "pygments_lexer": "ipython3",
   "version": "3.8.8"
  }
 },
 "nbformat": 4,
 "nbformat_minor": 4
}
